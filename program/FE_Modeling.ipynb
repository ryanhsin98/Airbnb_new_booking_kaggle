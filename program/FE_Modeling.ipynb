{
  "nbformat": 4,
  "nbformat_minor": 0,
  "metadata": {
    "colab": {
      "provenance": [],
      "machine_shape": "hm",
      "gpuType": "A100"
    },
    "kernelspec": {
      "name": "python3",
      "display_name": "Python 3"
    },
    "language_info": {
      "name": "python"
    },
    "gpuClass": "standard",
    "accelerator": "GPU"
  },
  "cells": [
    {
      "cell_type": "code",
      "execution_count": 1,
      "metadata": {
        "id": "NtwgOc-66eqe"
      },
      "outputs": [],
      "source": [
        "import re\n",
        "import gc\n",
        "from datetime import datetime\n",
        "\n",
        "import requests\n",
        "from bs4 import BeautifulSoup\n",
        "import numpy as np\n",
        "import pandas as pd\n",
        "import matplotlib.pyplot as plt\n",
        "import seaborn as sns\n",
        "\n",
        "%matplotlib inline\n",
        "\n",
        "from IPython.core.display import Image \n",
        "from IPython.display import display\n",
        "from scipy.stats import mode\n",
        "import scipy.stats as stats\n",
        "\n",
        "from sklearn.tree import export_graphviz\n",
        "from sklearn import preprocessing\n",
        "from sklearn.preprocessing import LabelEncoder,LabelBinarizer\n",
        "from sklearn.metrics import confusion_matrix\n",
        "from sklearn.metrics import classification_report\n",
        "from sklearn.model_selection import cross_val_score\n",
        "from sklearn.model_selection import train_test_split\n",
        "from sklearn.feature_selection import SelectFromModel\n",
        "\n",
        "from sklearn.feature_extraction.text import TfidfVectorizer\n",
        "from scipy.sparse import coo_matrix\n",
        "from scipy.sparse import hstack\n",
        "from scipy.sparse import vstack\n",
        "from scipy import sparse\n",
        "from scipy.sparse import csr_matrix\n",
        "from sklearn.preprocessing import OneHotEncoder\n",
        "import joblib\n",
        "from sklearn import metrics\n",
        "from sklearn.metrics import make_scorer\n",
        "\n",
        "import lightgbm as lgb\n",
        "from lightgbm import plot_importance\n",
        "from sklearn.ensemble import RandomForestClassifier\n",
        "import xgboost as xgb\n",
        "from sklearn import linear_model"
      ]
    },
    {
      "cell_type": "code",
      "source": [
        "# Load the data into DataFrames\n",
        "df_train = pd.read_csv('/content/drive/MyDrive/台新/train_users_2.csv')\n",
        "df_test = pd.read_csv('/content/drive/MyDrive/台新/test_users.csv')\n",
        "df_sessions = pd.read_csv('/content/drive/MyDrive/台新/sessions.csv')\n",
        "df_age_bkts = pd.read_csv('/content/drive/MyDrive/台新/age_gender_bkts.csv')\n",
        "df_countries = pd.read_csv('/content/drive/MyDrive/台新/countries.csv')"
      ],
      "metadata": {
        "id": "P1Ck2aQR62e6"
      },
      "execution_count": 2,
      "outputs": []
    },
    {
      "cell_type": "code",
      "source": [
        "df_all = pd.concat([df_train, df_test], axis=0)\n",
        "train_id = df_train.id\n",
        "test_id = df_test.id\n",
        "all_id = df_all.id"
      ],
      "metadata": {
        "id": "FSHwCkob7KCq"
      },
      "execution_count": 3,
      "outputs": []
    },
    {
      "cell_type": "code",
      "source": [
        "#date account create\n",
        "df_all[\"date_account_created\"] = pd.to_datetime(df_all[\"date_account_created\"], format = \"%Y-%m-%d\")\n",
        "\n",
        "#timestamp first active\n",
        "df_all[\"timestamp_first_active\"] = pd.to_datetime(df_all[\"timestamp_first_active\"], format=\"%Y%m%d%H%M%S\")\n",
        "\n",
        "df_all['create_year'] = df_all[\"date_account_created\"].apply(lambda x : x.year)\n",
        "df_all['create_month'] = df_all[\"date_account_created\"].apply(lambda x : x.month)\n",
        "df_all['create_day'] = df_all[\"date_account_created\"].apply(lambda x : x.day)\n",
        "\n",
        "df_all['active_year'] = df_all[\"timestamp_first_active\"].apply(lambda x : x.year)\n",
        "df_all['active_month'] = df_all[\"timestamp_first_active\"].apply(lambda x : x.month)\n",
        "df_all['active_day'] = df_all[\"timestamp_first_active\"].apply(lambda x : x.day)"
      ],
      "metadata": {
        "id": "n8C_V4ZB7ME3"
      },
      "execution_count": 4,
      "outputs": []
    },
    {
      "cell_type": "code",
      "source": [
        "lagging = df_all[\"timestamp_first_active\"] - df_all[\"date_account_created\"]\n",
        "\n",
        "#lagging time days, log seconds\n",
        "df_all[\"lag_days\"] = lagging.apply(lambda x : -1 * x.days)\n",
        "df_all[\"lag_seconds\"] = np.log(lagging.apply(lambda x : x.seconds))"
      ],
      "metadata": {
        "id": "u0YUU9hK7Q7y"
      },
      "execution_count": 5,
      "outputs": []
    },
    {
      "cell_type": "code",
      "source": [
        "def get_holidays(year):\n",
        "    response = requests.get(\"https://www.timeanddate.com/calendar/custom.html?year=\"+str(year)+\"                                &country=1&cols=3&df=1&hol=25\")\n",
        "    dom = BeautifulSoup(response.content, \"html.parser\")\n",
        "\n",
        "    trs = dom.select(\"table.cht.lpad tr\")\n",
        "\n",
        "    df = pd.DataFrame(columns=[\"date\", \"holiday\"])\n",
        "    for tr in trs:\n",
        "        datestr = tr.select_one(\"td:nth-of-type(1)\").text\n",
        "        date = datetime.strptime(\"{} {}\".format(year, datestr), '%Y %b %d')\n",
        "        holiday = tr.select_one(\"td:nth-of-type(2)\").text\n",
        "        df.loc[len(df)] = {\"date\" : date, \"holiday\": 1}\n",
        "    return df\n",
        "\n",
        "holiday_ls = []\n",
        "for year in range(2009, 2015):\n",
        "    df = get_holidays(year)\n",
        "    holiday_ls.append(df)\n",
        "    holiday_df = pd.concat(holiday_ls)"
      ],
      "metadata": {
        "id": "OG9pDouA7WQ5"
      },
      "execution_count": 6,
      "outputs": []
    },
    {
      "cell_type": "code",
      "source": [
        "select_date = list(holiday_df[\"date\"].astype(\"str\"))\n",
        "holiday = df_all.timestamp_first_active.apply(lambda x : str(x.date())).isin(select_date)\n",
        "\n",
        "df_all[\"holiday\"] = holiday\n",
        "df_all['holiday'] = 1 * (df_all.holiday == True)"
      ],
      "metadata": {
        "id": "Po6S0bja7aqr"
      },
      "execution_count": 7,
      "outputs": []
    },
    {
      "cell_type": "code",
      "source": [
        "weekday = df_all.filter(items=['id','timestamp_first_active'])\n",
        "weekday = pd.to_datetime(weekday[\"timestamp_first_active\"], format=\"%Y-%m-%d\")\n",
        "weekday = weekday.dt.dayofweek\n",
        "\n",
        "df_all[\"weekend\"] = weekday.apply(lambda x : 1 if x>=5 else 0)"
      ],
      "metadata": {
        "id": "NKFNniE87b13"
      },
      "execution_count": 8,
      "outputs": []
    },
    {
      "cell_type": "code",
      "source": [
        "df_all = df_all.drop(\"date_account_created\" , axis=1)\n",
        "df_all = df_all.drop(\"timestamp_first_active\" , axis=1)"
      ],
      "metadata": {
        "id": "HDiyl32J7ebl"
      },
      "execution_count": 9,
      "outputs": []
    },
    {
      "cell_type": "code",
      "source": [
        "checklist = (df_all['age'] < 120) & (df_all['gender'] != '-unknown-')\n",
        "\n",
        "df_all['faithless_sign'] = checklist.apply(lambda x : 0 if x == True else 1)"
      ],
      "metadata": {
        "id": "bgkYb48W7gCy"
      },
      "execution_count": 10,
      "outputs": []
    },
    {
      "cell_type": "code",
      "source": [
        "df_all = df_all.drop(\"date_first_booking\", axis=1)"
      ],
      "metadata": {
        "id": "4BJW3GfX7jSC"
      },
      "execution_count": 11,
      "outputs": []
    },
    {
      "cell_type": "code",
      "source": [
        "df_all.first_affiliate_tracked.mode()\n",
        "df_all[\"first_affiliate_tracked\"] = df_all[\"first_affiliate_tracked\"].replace(np.nan, \"untracked\")"
      ],
      "metadata": {
        "id": "Nr6vDEAK7mKq"
      },
      "execution_count": 12,
      "outputs": []
    },
    {
      "cell_type": "code",
      "source": [
        "df_age = df_all.filter(items = ['age', 'country_destination','id', 'gender'])\n",
        "df_dummy = df_all.filter(items = ['affiliate_channel', 'affiliate_provider',\n",
        "                  'first_affiliate_tracked', 'first_browser', 'first_device_type',\n",
        "                  'language', 'signup_app', 'signup_flow', 'signup_method', \n",
        "                  'create_year', 'create_month', 'create_day', \n",
        "                  'active_year', 'active_month', 'active_day', 'lag_days', 'lag_seconds', \n",
        "                  'holiday', 'weekend'])\n",
        "    \n",
        "df_dummy = pd.get_dummies(df_dummy)\n",
        "df_all = pd.concat([df_age, df_dummy], axis=1)"
      ],
      "metadata": {
        "id": "FAmRm7Jy7of5"
      },
      "execution_count": 13,
      "outputs": []
    },
    {
      "cell_type": "code",
      "source": [
        "#divide train / test by null age data\n",
        "age_train = df_all[df_all[\"age\"].notnull()].reset_index(drop=True)\n",
        "age_test = df_all[df_all[\"age\"].isnull()].reset_index(drop=True)\n",
        "\n",
        "#divide 5 cluster age data\n",
        "bins = [0, 15, 25, 35, 60, 9999]\n",
        "labels = [\"underage\", \"tweenty\", \"thirty\", \"mid_old\", \"old\"]\n",
        "cats = pd.cut(age_train['age'], bins, labels=labels)\n",
        "cats = pd.DataFrame(cats)\n",
        "\n",
        "age_train_id = age_train.id\n",
        "age_test_id = age_test.id\n",
        "\n",
        "age_train = age_train.drop(['id', 'age', 'country_destination', 'gender'], axis=1)\n",
        "age_test = age_test.drop(['id', 'age', 'country_destination', 'gender'], axis=1)"
      ],
      "metadata": {
        "id": "qqBNAimZ7vhi"
      },
      "execution_count": 14,
      "outputs": []
    },
    {
      "cell_type": "code",
      "source": [
        "X = age_train\n",
        "y = cats\n",
        "\n",
        "#model recall rate is so low, but it gives better cross validation score for final prediction model\n",
        "X_train, X_test, y_train, y_test = train_test_split(X, y, test_size=0.20, random_state=0)\n",
        "    \n",
        "model_age = lgb.LGBMClassifier(boosting_type='gbdt', n_jobs=-1, reg_alpha=0.5, reg_lambda=0.5).fit(X_train, y_train)\n",
        "pred_age = model_age.predict(X_test)\n",
        "\n",
        "print(classification_report(y_test, pred_age))"
      ],
      "metadata": {
        "colab": {
          "base_uri": "https://localhost:8080/"
        },
        "id": "QQzxD-Fq73a6",
        "outputId": "af00b3c8-e676-40b4-e4fc-7e0ae7ad3890"
      },
      "execution_count": 15,
      "outputs": [
        {
          "output_type": "stream",
          "name": "stdout",
          "text": [
            "              precision    recall  f1-score   support\n",
            "\n",
            "     mid_old       0.48      0.38      0.42     11150\n",
            "         old       0.46      0.00      0.01      2044\n",
            "      thirty       0.49      0.78      0.60     14036\n",
            "     tweenty       0.47      0.04      0.07      4490\n",
            "    underage       0.56      0.29      0.38        17\n",
            "\n",
            "    accuracy                           0.49     31737\n",
            "   macro avg       0.49      0.30      0.30     31737\n",
            "weighted avg       0.48      0.49      0.43     31737\n",
            "\n"
          ]
        }
      ]
    },
    {
      "cell_type": "code",
      "source": [
        "#prediction age\n",
        "pred_age = model_age.predict(age_test)\n",
        "pred_age = pd.DataFrame(pred_age, columns=['age'])\n",
        "pred_age = pd.concat([pred_age, age_test_id], axis=1)\n",
        "pred_age[\"age\"] = pred_age[\"age\"].replace({'underage':15, \"tweenty\" : 25, \"thirty\" : 35, 'mid_old' : 45, 'old' : 60})\n",
        "\n",
        "#original age\n",
        "origin_age = y\n",
        "origin_age = pd.DataFrame(origin_age, columns=['age'])\n",
        "origin_age = pd.concat([origin_age, age_train_id], axis=1)\n",
        "origin_age[\"age\"] = origin_age[\"age\"].replace({'underage':15, \"tweenty\" : 25, \"thirty\" : 35, 'mid_old' : 45, 'old' : 60})\n",
        "\n",
        "#concat original age and prediction age\n",
        "age = pd.concat([origin_age, pred_age], axis=0)\n",
        "print('age lenght check :', len(age))\n",
        "age.head()"
      ],
      "metadata": {
        "colab": {
          "base_uri": "https://localhost:8080/",
          "height": 224
        },
        "id": "U3vaAgsh77oK",
        "outputId": "dd34812d-85cf-4784-e7be-aad1256e820d"
      },
      "execution_count": 16,
      "outputs": [
        {
          "output_type": "stream",
          "name": "stdout",
          "text": [
            "age lenght check : 275547\n"
          ]
        },
        {
          "output_type": "execute_result",
          "data": {
            "text/plain": [
              "   age          id\n",
              "0   45  820tgsjxq7\n",
              "1   45  4ft3gnwmtx\n",
              "2   45  bjjt8pjhuk\n",
              "3   45  87mebub9p4\n",
              "4   45  lsw9q7uk0j"
            ],
            "text/html": [
              "\n",
              "  <div id=\"df-683c4bc9-d86b-4fdf-8c2f-42f853fac03f\">\n",
              "    <div class=\"colab-df-container\">\n",
              "      <div>\n",
              "<style scoped>\n",
              "    .dataframe tbody tr th:only-of-type {\n",
              "        vertical-align: middle;\n",
              "    }\n",
              "\n",
              "    .dataframe tbody tr th {\n",
              "        vertical-align: top;\n",
              "    }\n",
              "\n",
              "    .dataframe thead th {\n",
              "        text-align: right;\n",
              "    }\n",
              "</style>\n",
              "<table border=\"1\" class=\"dataframe\">\n",
              "  <thead>\n",
              "    <tr style=\"text-align: right;\">\n",
              "      <th></th>\n",
              "      <th>age</th>\n",
              "      <th>id</th>\n",
              "    </tr>\n",
              "  </thead>\n",
              "  <tbody>\n",
              "    <tr>\n",
              "      <th>0</th>\n",
              "      <td>45</td>\n",
              "      <td>820tgsjxq7</td>\n",
              "    </tr>\n",
              "    <tr>\n",
              "      <th>1</th>\n",
              "      <td>45</td>\n",
              "      <td>4ft3gnwmtx</td>\n",
              "    </tr>\n",
              "    <tr>\n",
              "      <th>2</th>\n",
              "      <td>45</td>\n",
              "      <td>bjjt8pjhuk</td>\n",
              "    </tr>\n",
              "    <tr>\n",
              "      <th>3</th>\n",
              "      <td>45</td>\n",
              "      <td>87mebub9p4</td>\n",
              "    </tr>\n",
              "    <tr>\n",
              "      <th>4</th>\n",
              "      <td>45</td>\n",
              "      <td>lsw9q7uk0j</td>\n",
              "    </tr>\n",
              "  </tbody>\n",
              "</table>\n",
              "</div>\n",
              "      <button class=\"colab-df-convert\" onclick=\"convertToInteractive('df-683c4bc9-d86b-4fdf-8c2f-42f853fac03f')\"\n",
              "              title=\"Convert this dataframe to an interactive table.\"\n",
              "              style=\"display:none;\">\n",
              "        \n",
              "  <svg xmlns=\"http://www.w3.org/2000/svg\" height=\"24px\"viewBox=\"0 0 24 24\"\n",
              "       width=\"24px\">\n",
              "    <path d=\"M0 0h24v24H0V0z\" fill=\"none\"/>\n",
              "    <path d=\"M18.56 5.44l.94 2.06.94-2.06 2.06-.94-2.06-.94-.94-2.06-.94 2.06-2.06.94zm-11 1L8.5 8.5l.94-2.06 2.06-.94-2.06-.94L8.5 2.5l-.94 2.06-2.06.94zm10 10l.94 2.06.94-2.06 2.06-.94-2.06-.94-.94-2.06-.94 2.06-2.06.94z\"/><path d=\"M17.41 7.96l-1.37-1.37c-.4-.4-.92-.59-1.43-.59-.52 0-1.04.2-1.43.59L10.3 9.45l-7.72 7.72c-.78.78-.78 2.05 0 2.83L4 21.41c.39.39.9.59 1.41.59.51 0 1.02-.2 1.41-.59l7.78-7.78 2.81-2.81c.8-.78.8-2.07 0-2.86zM5.41 20L4 18.59l7.72-7.72 1.47 1.35L5.41 20z\"/>\n",
              "  </svg>\n",
              "      </button>\n",
              "      \n",
              "  <style>\n",
              "    .colab-df-container {\n",
              "      display:flex;\n",
              "      flex-wrap:wrap;\n",
              "      gap: 12px;\n",
              "    }\n",
              "\n",
              "    .colab-df-convert {\n",
              "      background-color: #E8F0FE;\n",
              "      border: none;\n",
              "      border-radius: 50%;\n",
              "      cursor: pointer;\n",
              "      display: none;\n",
              "      fill: #1967D2;\n",
              "      height: 32px;\n",
              "      padding: 0 0 0 0;\n",
              "      width: 32px;\n",
              "    }\n",
              "\n",
              "    .colab-df-convert:hover {\n",
              "      background-color: #E2EBFA;\n",
              "      box-shadow: 0px 1px 2px rgba(60, 64, 67, 0.3), 0px 1px 3px 1px rgba(60, 64, 67, 0.15);\n",
              "      fill: #174EA6;\n",
              "    }\n",
              "\n",
              "    [theme=dark] .colab-df-convert {\n",
              "      background-color: #3B4455;\n",
              "      fill: #D2E3FC;\n",
              "    }\n",
              "\n",
              "    [theme=dark] .colab-df-convert:hover {\n",
              "      background-color: #434B5C;\n",
              "      box-shadow: 0px 1px 3px 1px rgba(0, 0, 0, 0.15);\n",
              "      filter: drop-shadow(0px 1px 2px rgba(0, 0, 0, 0.3));\n",
              "      fill: #FFFFFF;\n",
              "    }\n",
              "  </style>\n",
              "\n",
              "      <script>\n",
              "        const buttonEl =\n",
              "          document.querySelector('#df-683c4bc9-d86b-4fdf-8c2f-42f853fac03f button.colab-df-convert');\n",
              "        buttonEl.style.display =\n",
              "          google.colab.kernel.accessAllowed ? 'block' : 'none';\n",
              "\n",
              "        async function convertToInteractive(key) {\n",
              "          const element = document.querySelector('#df-683c4bc9-d86b-4fdf-8c2f-42f853fac03f');\n",
              "          const dataTable =\n",
              "            await google.colab.kernel.invokeFunction('convertToInteractive',\n",
              "                                                     [key], {});\n",
              "          if (!dataTable) return;\n",
              "\n",
              "          const docLinkHtml = 'Like what you see? Visit the ' +\n",
              "            '<a target=\"_blank\" href=https://colab.research.google.com/notebooks/data_table.ipynb>data table notebook</a>'\n",
              "            + ' to learn more about interactive tables.';\n",
              "          element.innerHTML = '';\n",
              "          dataTable['output_type'] = 'display_data';\n",
              "          await google.colab.output.renderOutput(dataTable, element);\n",
              "          const docLink = document.createElement('div');\n",
              "          docLink.innerHTML = docLinkHtml;\n",
              "          element.appendChild(docLink);\n",
              "        }\n",
              "      </script>\n",
              "    </div>\n",
              "  </div>\n",
              "  "
            ]
          },
          "metadata": {},
          "execution_count": 16
        }
      ]
    },
    {
      "cell_type": "code",
      "source": [
        "df_all = df_all.drop(\"age\" , axis=1)\n",
        "\n",
        "df_all = pd.merge(df_all, age, on=\"id\", how=\"left\")"
      ],
      "metadata": {
        "id": "IC8Jtsyi792k"
      },
      "execution_count": 17,
      "outputs": []
    },
    {
      "cell_type": "code",
      "source": [
        "df_all[\"gender\"] = df_all[\"gender\"].replace(['-unknown-', 'OTHER'], np.nan)\n",
        "\n",
        "gender_train = df_all[df_all[\"gender\"].notnull()].reset_index()\n",
        "gender_test = df_all[df_all[\"gender\"].isnull()].reset_index()\n",
        "\n",
        "y = gender_train.gender\n",
        "\n",
        "gender_train_id = gender_train.id\n",
        "gender_test_id = gender_test.id\n",
        "\n",
        "gender_train = gender_train.drop(['id', 'age', 'country_destination', 'gender'], axis=1)\n",
        "gender_test = gender_test.drop(['id', 'age', 'country_destination', 'gender'], axis=1)\n",
        "\n",
        "X = gender_train"
      ],
      "metadata": {
        "id": "NDg2DX7C7_cx"
      },
      "execution_count": 18,
      "outputs": []
    },
    {
      "cell_type": "code",
      "source": [
        "#model recall rate is so low, but it gives better cross validation score for final prediction model\n",
        "X_train, X_test, y_train, y_test = train_test_split(X, y, test_size=0.20, random_state=0)\n",
        "\n",
        "# X_train, X_test, y_train = gender_train, gender_test, y\n",
        "    \n",
        "model_age = lgb.LGBMClassifier(n_estimators=500, n_jobs=-1, reg_alpha=1).fit(X_train, y_train)\n",
        "pred_age = model_age.predict(X_test)\n",
        "\n",
        "print(classification_report(y_test, pred_age))"
      ],
      "metadata": {
        "colab": {
          "base_uri": "https://localhost:8080/"
        },
        "id": "wthI5SMI8FAm",
        "outputId": "4525dc61-f9b2-48ce-8664-4f4a1304d307"
      },
      "execution_count": 19,
      "outputs": [
        {
          "output_type": "stream",
          "name": "stdout",
          "text": [
            "              precision    recall  f1-score   support\n",
            "\n",
            "      FEMALE       0.57      0.67      0.62     15550\n",
            "        MALE       0.53      0.43      0.48     13597\n",
            "\n",
            "    accuracy                           0.56     29147\n",
            "   macro avg       0.55      0.55      0.55     29147\n",
            "weighted avg       0.56      0.56      0.55     29147\n",
            "\n"
          ]
        }
      ]
    },
    {
      "cell_type": "code",
      "source": [
        "pred_gender = model_age.predict(gender_test)\n",
        "pred_gender = pd.DataFrame(pred_gender)\n",
        "\n",
        "#prediction age\n",
        "pred_gender = model_age.predict(gender_test)\n",
        "pred_gender = pd.DataFrame(pred_gender, columns=['gender'])\n",
        "pred_gender = pd.concat([pred_gender, gender_test_id], axis=1)\n",
        "\n",
        "#original age\n",
        "origin_gender = y\n",
        "origin_gender = pd.DataFrame(origin_gender, columns=['gender'])\n",
        "origin_gender = pd.concat([origin_gender, gender_train_id], axis=1)\n",
        "\n",
        "#concat original age and prediction age\n",
        "gender = pd.concat([origin_gender, pred_gender], axis=0)\n",
        "print('gender lenght check :', len(gender))\n",
        "gender.head()"
      ],
      "metadata": {
        "colab": {
          "base_uri": "https://localhost:8080/",
          "height": 224
        },
        "id": "JmbA2QE_8SH6",
        "outputId": "6b122b52-9ba9-4279-d533-dc73fa80b2fc"
      },
      "execution_count": 20,
      "outputs": [
        {
          "output_type": "stream",
          "name": "stdout",
          "text": [
            "gender lenght check : 275547\n"
          ]
        },
        {
          "output_type": "execute_result",
          "data": {
            "text/plain": [
              "   gender          id\n",
              "0    MALE  820tgsjxq7\n",
              "1  FEMALE  4ft3gnwmtx\n",
              "2  FEMALE  bjjt8pjhuk\n",
              "3  FEMALE  lsw9q7uk0j\n",
              "4  FEMALE  0d01nltbrs"
            ],
            "text/html": [
              "\n",
              "  <div id=\"df-7997a163-ee38-4493-806a-014a408b5658\">\n",
              "    <div class=\"colab-df-container\">\n",
              "      <div>\n",
              "<style scoped>\n",
              "    .dataframe tbody tr th:only-of-type {\n",
              "        vertical-align: middle;\n",
              "    }\n",
              "\n",
              "    .dataframe tbody tr th {\n",
              "        vertical-align: top;\n",
              "    }\n",
              "\n",
              "    .dataframe thead th {\n",
              "        text-align: right;\n",
              "    }\n",
              "</style>\n",
              "<table border=\"1\" class=\"dataframe\">\n",
              "  <thead>\n",
              "    <tr style=\"text-align: right;\">\n",
              "      <th></th>\n",
              "      <th>gender</th>\n",
              "      <th>id</th>\n",
              "    </tr>\n",
              "  </thead>\n",
              "  <tbody>\n",
              "    <tr>\n",
              "      <th>0</th>\n",
              "      <td>MALE</td>\n",
              "      <td>820tgsjxq7</td>\n",
              "    </tr>\n",
              "    <tr>\n",
              "      <th>1</th>\n",
              "      <td>FEMALE</td>\n",
              "      <td>4ft3gnwmtx</td>\n",
              "    </tr>\n",
              "    <tr>\n",
              "      <th>2</th>\n",
              "      <td>FEMALE</td>\n",
              "      <td>bjjt8pjhuk</td>\n",
              "    </tr>\n",
              "    <tr>\n",
              "      <th>3</th>\n",
              "      <td>FEMALE</td>\n",
              "      <td>lsw9q7uk0j</td>\n",
              "    </tr>\n",
              "    <tr>\n",
              "      <th>4</th>\n",
              "      <td>FEMALE</td>\n",
              "      <td>0d01nltbrs</td>\n",
              "    </tr>\n",
              "  </tbody>\n",
              "</table>\n",
              "</div>\n",
              "      <button class=\"colab-df-convert\" onclick=\"convertToInteractive('df-7997a163-ee38-4493-806a-014a408b5658')\"\n",
              "              title=\"Convert this dataframe to an interactive table.\"\n",
              "              style=\"display:none;\">\n",
              "        \n",
              "  <svg xmlns=\"http://www.w3.org/2000/svg\" height=\"24px\"viewBox=\"0 0 24 24\"\n",
              "       width=\"24px\">\n",
              "    <path d=\"M0 0h24v24H0V0z\" fill=\"none\"/>\n",
              "    <path d=\"M18.56 5.44l.94 2.06.94-2.06 2.06-.94-2.06-.94-.94-2.06-.94 2.06-2.06.94zm-11 1L8.5 8.5l.94-2.06 2.06-.94-2.06-.94L8.5 2.5l-.94 2.06-2.06.94zm10 10l.94 2.06.94-2.06 2.06-.94-2.06-.94-.94-2.06-.94 2.06-2.06.94z\"/><path d=\"M17.41 7.96l-1.37-1.37c-.4-.4-.92-.59-1.43-.59-.52 0-1.04.2-1.43.59L10.3 9.45l-7.72 7.72c-.78.78-.78 2.05 0 2.83L4 21.41c.39.39.9.59 1.41.59.51 0 1.02-.2 1.41-.59l7.78-7.78 2.81-2.81c.8-.78.8-2.07 0-2.86zM5.41 20L4 18.59l7.72-7.72 1.47 1.35L5.41 20z\"/>\n",
              "  </svg>\n",
              "      </button>\n",
              "      \n",
              "  <style>\n",
              "    .colab-df-container {\n",
              "      display:flex;\n",
              "      flex-wrap:wrap;\n",
              "      gap: 12px;\n",
              "    }\n",
              "\n",
              "    .colab-df-convert {\n",
              "      background-color: #E8F0FE;\n",
              "      border: none;\n",
              "      border-radius: 50%;\n",
              "      cursor: pointer;\n",
              "      display: none;\n",
              "      fill: #1967D2;\n",
              "      height: 32px;\n",
              "      padding: 0 0 0 0;\n",
              "      width: 32px;\n",
              "    }\n",
              "\n",
              "    .colab-df-convert:hover {\n",
              "      background-color: #E2EBFA;\n",
              "      box-shadow: 0px 1px 2px rgba(60, 64, 67, 0.3), 0px 1px 3px 1px rgba(60, 64, 67, 0.15);\n",
              "      fill: #174EA6;\n",
              "    }\n",
              "\n",
              "    [theme=dark] .colab-df-convert {\n",
              "      background-color: #3B4455;\n",
              "      fill: #D2E3FC;\n",
              "    }\n",
              "\n",
              "    [theme=dark] .colab-df-convert:hover {\n",
              "      background-color: #434B5C;\n",
              "      box-shadow: 0px 1px 3px 1px rgba(0, 0, 0, 0.15);\n",
              "      filter: drop-shadow(0px 1px 2px rgba(0, 0, 0, 0.3));\n",
              "      fill: #FFFFFF;\n",
              "    }\n",
              "  </style>\n",
              "\n",
              "      <script>\n",
              "        const buttonEl =\n",
              "          document.querySelector('#df-7997a163-ee38-4493-806a-014a408b5658 button.colab-df-convert');\n",
              "        buttonEl.style.display =\n",
              "          google.colab.kernel.accessAllowed ? 'block' : 'none';\n",
              "\n",
              "        async function convertToInteractive(key) {\n",
              "          const element = document.querySelector('#df-7997a163-ee38-4493-806a-014a408b5658');\n",
              "          const dataTable =\n",
              "            await google.colab.kernel.invokeFunction('convertToInteractive',\n",
              "                                                     [key], {});\n",
              "          if (!dataTable) return;\n",
              "\n",
              "          const docLinkHtml = 'Like what you see? Visit the ' +\n",
              "            '<a target=\"_blank\" href=https://colab.research.google.com/notebooks/data_table.ipynb>data table notebook</a>'\n",
              "            + ' to learn more about interactive tables.';\n",
              "          element.innerHTML = '';\n",
              "          dataTable['output_type'] = 'display_data';\n",
              "          await google.colab.output.renderOutput(dataTable, element);\n",
              "          const docLink = document.createElement('div');\n",
              "          docLink.innerHTML = docLinkHtml;\n",
              "          element.appendChild(docLink);\n",
              "        }\n",
              "      </script>\n",
              "    </div>\n",
              "  </div>\n",
              "  "
            ]
          },
          "metadata": {},
          "execution_count": 20
        }
      ]
    },
    {
      "cell_type": "code",
      "source": [
        "df_all = df_all.drop(\"gender\" , axis=1)\n",
        "df_all = pd.merge(df_all, gender, on=\"id\", how=\"left\")"
      ],
      "metadata": {
        "id": "oL_4iAYx8TRz"
      },
      "execution_count": 21,
      "outputs": []
    },
    {
      "cell_type": "code",
      "source": [
        "#split\n",
        "new_df_train = df_all[:213451]\n",
        "new_df_test = df_all[213451:]"
      ],
      "metadata": {
        "id": "Co3tLQLgdeEM"
      },
      "execution_count": 22,
      "outputs": []
    },
    {
      "cell_type": "markdown",
      "source": [
        "**session data preprocessing**"
      ],
      "metadata": {
        "id": "AkzOmjIlVnkd"
      }
    },
    {
      "cell_type": "code",
      "source": [
        "df_sessions.head()"
      ],
      "metadata": {
        "colab": {
          "base_uri": "https://localhost:8080/",
          "height": 206
        },
        "id": "HoAjpq5xVpot",
        "outputId": "d8d51c73-018d-4df5-aac9-f6992d0e9b24"
      },
      "execution_count": 23,
      "outputs": [
        {
          "output_type": "execute_result",
          "data": {
            "text/plain": [
              "      user_id          action action_type        action_detail  \\\n",
              "0  d1mm9tcy42          lookup         NaN                  NaN   \n",
              "1  d1mm9tcy42  search_results       click  view_search_results   \n",
              "2  d1mm9tcy42          lookup         NaN                  NaN   \n",
              "3  d1mm9tcy42  search_results       click  view_search_results   \n",
              "4  d1mm9tcy42          lookup         NaN                  NaN   \n",
              "\n",
              "       device_type  secs_elapsed  \n",
              "0  Windows Desktop         319.0  \n",
              "1  Windows Desktop       67753.0  \n",
              "2  Windows Desktop         301.0  \n",
              "3  Windows Desktop       22141.0  \n",
              "4  Windows Desktop         435.0  "
            ],
            "text/html": [
              "\n",
              "  <div id=\"df-67913778-1956-4b8d-aaa5-086197e6dd4d\">\n",
              "    <div class=\"colab-df-container\">\n",
              "      <div>\n",
              "<style scoped>\n",
              "    .dataframe tbody tr th:only-of-type {\n",
              "        vertical-align: middle;\n",
              "    }\n",
              "\n",
              "    .dataframe tbody tr th {\n",
              "        vertical-align: top;\n",
              "    }\n",
              "\n",
              "    .dataframe thead th {\n",
              "        text-align: right;\n",
              "    }\n",
              "</style>\n",
              "<table border=\"1\" class=\"dataframe\">\n",
              "  <thead>\n",
              "    <tr style=\"text-align: right;\">\n",
              "      <th></th>\n",
              "      <th>user_id</th>\n",
              "      <th>action</th>\n",
              "      <th>action_type</th>\n",
              "      <th>action_detail</th>\n",
              "      <th>device_type</th>\n",
              "      <th>secs_elapsed</th>\n",
              "    </tr>\n",
              "  </thead>\n",
              "  <tbody>\n",
              "    <tr>\n",
              "      <th>0</th>\n",
              "      <td>d1mm9tcy42</td>\n",
              "      <td>lookup</td>\n",
              "      <td>NaN</td>\n",
              "      <td>NaN</td>\n",
              "      <td>Windows Desktop</td>\n",
              "      <td>319.0</td>\n",
              "    </tr>\n",
              "    <tr>\n",
              "      <th>1</th>\n",
              "      <td>d1mm9tcy42</td>\n",
              "      <td>search_results</td>\n",
              "      <td>click</td>\n",
              "      <td>view_search_results</td>\n",
              "      <td>Windows Desktop</td>\n",
              "      <td>67753.0</td>\n",
              "    </tr>\n",
              "    <tr>\n",
              "      <th>2</th>\n",
              "      <td>d1mm9tcy42</td>\n",
              "      <td>lookup</td>\n",
              "      <td>NaN</td>\n",
              "      <td>NaN</td>\n",
              "      <td>Windows Desktop</td>\n",
              "      <td>301.0</td>\n",
              "    </tr>\n",
              "    <tr>\n",
              "      <th>3</th>\n",
              "      <td>d1mm9tcy42</td>\n",
              "      <td>search_results</td>\n",
              "      <td>click</td>\n",
              "      <td>view_search_results</td>\n",
              "      <td>Windows Desktop</td>\n",
              "      <td>22141.0</td>\n",
              "    </tr>\n",
              "    <tr>\n",
              "      <th>4</th>\n",
              "      <td>d1mm9tcy42</td>\n",
              "      <td>lookup</td>\n",
              "      <td>NaN</td>\n",
              "      <td>NaN</td>\n",
              "      <td>Windows Desktop</td>\n",
              "      <td>435.0</td>\n",
              "    </tr>\n",
              "  </tbody>\n",
              "</table>\n",
              "</div>\n",
              "      <button class=\"colab-df-convert\" onclick=\"convertToInteractive('df-67913778-1956-4b8d-aaa5-086197e6dd4d')\"\n",
              "              title=\"Convert this dataframe to an interactive table.\"\n",
              "              style=\"display:none;\">\n",
              "        \n",
              "  <svg xmlns=\"http://www.w3.org/2000/svg\" height=\"24px\"viewBox=\"0 0 24 24\"\n",
              "       width=\"24px\">\n",
              "    <path d=\"M0 0h24v24H0V0z\" fill=\"none\"/>\n",
              "    <path d=\"M18.56 5.44l.94 2.06.94-2.06 2.06-.94-2.06-.94-.94-2.06-.94 2.06-2.06.94zm-11 1L8.5 8.5l.94-2.06 2.06-.94-2.06-.94L8.5 2.5l-.94 2.06-2.06.94zm10 10l.94 2.06.94-2.06 2.06-.94-2.06-.94-.94-2.06-.94 2.06-2.06.94z\"/><path d=\"M17.41 7.96l-1.37-1.37c-.4-.4-.92-.59-1.43-.59-.52 0-1.04.2-1.43.59L10.3 9.45l-7.72 7.72c-.78.78-.78 2.05 0 2.83L4 21.41c.39.39.9.59 1.41.59.51 0 1.02-.2 1.41-.59l7.78-7.78 2.81-2.81c.8-.78.8-2.07 0-2.86zM5.41 20L4 18.59l7.72-7.72 1.47 1.35L5.41 20z\"/>\n",
              "  </svg>\n",
              "      </button>\n",
              "      \n",
              "  <style>\n",
              "    .colab-df-container {\n",
              "      display:flex;\n",
              "      flex-wrap:wrap;\n",
              "      gap: 12px;\n",
              "    }\n",
              "\n",
              "    .colab-df-convert {\n",
              "      background-color: #E8F0FE;\n",
              "      border: none;\n",
              "      border-radius: 50%;\n",
              "      cursor: pointer;\n",
              "      display: none;\n",
              "      fill: #1967D2;\n",
              "      height: 32px;\n",
              "      padding: 0 0 0 0;\n",
              "      width: 32px;\n",
              "    }\n",
              "\n",
              "    .colab-df-convert:hover {\n",
              "      background-color: #E2EBFA;\n",
              "      box-shadow: 0px 1px 2px rgba(60, 64, 67, 0.3), 0px 1px 3px 1px rgba(60, 64, 67, 0.15);\n",
              "      fill: #174EA6;\n",
              "    }\n",
              "\n",
              "    [theme=dark] .colab-df-convert {\n",
              "      background-color: #3B4455;\n",
              "      fill: #D2E3FC;\n",
              "    }\n",
              "\n",
              "    [theme=dark] .colab-df-convert:hover {\n",
              "      background-color: #434B5C;\n",
              "      box-shadow: 0px 1px 3px 1px rgba(0, 0, 0, 0.15);\n",
              "      filter: drop-shadow(0px 1px 2px rgba(0, 0, 0, 0.3));\n",
              "      fill: #FFFFFF;\n",
              "    }\n",
              "  </style>\n",
              "\n",
              "      <script>\n",
              "        const buttonEl =\n",
              "          document.querySelector('#df-67913778-1956-4b8d-aaa5-086197e6dd4d button.colab-df-convert');\n",
              "        buttonEl.style.display =\n",
              "          google.colab.kernel.accessAllowed ? 'block' : 'none';\n",
              "\n",
              "        async function convertToInteractive(key) {\n",
              "          const element = document.querySelector('#df-67913778-1956-4b8d-aaa5-086197e6dd4d');\n",
              "          const dataTable =\n",
              "            await google.colab.kernel.invokeFunction('convertToInteractive',\n",
              "                                                     [key], {});\n",
              "          if (!dataTable) return;\n",
              "\n",
              "          const docLinkHtml = 'Like what you see? Visit the ' +\n",
              "            '<a target=\"_blank\" href=https://colab.research.google.com/notebooks/data_table.ipynb>data table notebook</a>'\n",
              "            + ' to learn more about interactive tables.';\n",
              "          element.innerHTML = '';\n",
              "          dataTable['output_type'] = 'display_data';\n",
              "          await google.colab.output.renderOutput(dataTable, element);\n",
              "          const docLink = document.createElement('div');\n",
              "          docLink.innerHTML = docLinkHtml;\n",
              "          element.appendChild(docLink);\n",
              "        }\n",
              "      </script>\n",
              "    </div>\n",
              "  </div>\n",
              "  "
            ]
          },
          "metadata": {},
          "execution_count": 23
        }
      ]
    },
    {
      "cell_type": "code",
      "source": [
        "#Checking null values\n",
        "df_sessions.isnull().sum()"
      ],
      "metadata": {
        "id": "eitpkJJwFIgE",
        "colab": {
          "base_uri": "https://localhost:8080/"
        },
        "outputId": "933e1a1b-43f7-476d-a92c-4e649faa86e5"
      },
      "execution_count": 24,
      "outputs": [
        {
          "output_type": "execute_result",
          "data": {
            "text/plain": [
              "user_id            34496\n",
              "action             79626\n",
              "action_type      1126204\n",
              "action_detail    1126204\n",
              "device_type            0\n",
              "secs_elapsed      136031\n",
              "dtype: int64"
            ]
          },
          "metadata": {},
          "execution_count": 24
        }
      ]
    },
    {
      "cell_type": "code",
      "source": [
        "session_df_concat = df_sessions.groupby('user_id', as_index=False).agg(lambda x: x.tolist())\n",
        "\n",
        "print(session_df_concat.shape)\n",
        "\n",
        "session_df_concat.head()"
      ],
      "metadata": {
        "colab": {
          "base_uri": "https://localhost:8080/",
          "height": 355
        },
        "id": "3cZNF3y_V-sg",
        "outputId": "017c95e5-bbac-45db-d59c-f60751e4765f"
      },
      "execution_count": 25,
      "outputs": [
        {
          "output_type": "stream",
          "name": "stdout",
          "text": [
            "(135483, 6)\n"
          ]
        },
        {
          "output_type": "execute_result",
          "data": {
            "text/plain": [
              "      user_id                                             action  \\\n",
              "0  00023iyk9l  [index, dashboard, header_userpic, dashboard, ...   \n",
              "1  0010k6l0om  [search_results, show, personalize, show, sear...   \n",
              "2  001wyh0pz8  [search, search, search, show, social_connecti...   \n",
              "3  0028jgx1x1  [show, reviews, show, search, show, search, re...   \n",
              "4  002qnbzfs5  [social_connections, payment_methods, create, ...   \n",
              "\n",
              "                                         action_type  \\\n",
              "0  [view, view, data, view, partner_callback, mes...   \n",
              "1  [click, view, data, nan, click, click, nan, da...   \n",
              "2  [click, click, click, view, data, -unknown-, v...   \n",
              "3  [view, data, view, click, view, click, data, s...   \n",
              "4  [data, -unknown-, -unknown-, view, data, data,...   \n",
              "\n",
              "                                       action_detail  \\\n",
              "0  [view_search_results, dashboard, header_userpi...   \n",
              "1  [view_search_results, p3, wishlist_content_upd...   \n",
              "2  [view_search_results, view_search_results, vie...   \n",
              "3  [user_profile, listing_reviews, p3, view_searc...   \n",
              "4  [user_social_connections, -unknown-, -unknown-...   \n",
              "\n",
              "                                         device_type  \\\n",
              "0  [Mac Desktop, Mac Desktop, Mac Desktop, Mac De...   \n",
              "1  [Mac Desktop, Mac Desktop, Mac Desktop, Mac De...   \n",
              "2  [Android App Unknown Phone/Tablet, Android App...   \n",
              "3  [-unknown-, -unknown-, -unknown-, -unknown-, -...   \n",
              "4  [iPhone, iPhone, iPhone, iPhone, iPhone, iPhon...   \n",
              "\n",
              "                                        secs_elapsed  \n",
              "0  [20438.0, 787.0, 850.0, 934.0, nan, 129817.0, ...  \n",
              "1  [1708.0, 21260.0, 1223.0, 26.0, 847.0, 1230.0,...  \n",
              "2  [622.0, 1813.0, 1507.0, 6327.0, 927.0, 142.0, ...  \n",
              "3  [6162.0, 75.0, 86.0, 13710.0, 25217.0, 10989.0...  \n",
              "4  [17135.0, 711.0, 274.0, 179.0, 483.0, 1.0, 782...  "
            ],
            "text/html": [
              "\n",
              "  <div id=\"df-6f2fbc5b-4e4c-4067-b47c-afa53c23f84d\">\n",
              "    <div class=\"colab-df-container\">\n",
              "      <div>\n",
              "<style scoped>\n",
              "    .dataframe tbody tr th:only-of-type {\n",
              "        vertical-align: middle;\n",
              "    }\n",
              "\n",
              "    .dataframe tbody tr th {\n",
              "        vertical-align: top;\n",
              "    }\n",
              "\n",
              "    .dataframe thead th {\n",
              "        text-align: right;\n",
              "    }\n",
              "</style>\n",
              "<table border=\"1\" class=\"dataframe\">\n",
              "  <thead>\n",
              "    <tr style=\"text-align: right;\">\n",
              "      <th></th>\n",
              "      <th>user_id</th>\n",
              "      <th>action</th>\n",
              "      <th>action_type</th>\n",
              "      <th>action_detail</th>\n",
              "      <th>device_type</th>\n",
              "      <th>secs_elapsed</th>\n",
              "    </tr>\n",
              "  </thead>\n",
              "  <tbody>\n",
              "    <tr>\n",
              "      <th>0</th>\n",
              "      <td>00023iyk9l</td>\n",
              "      <td>[index, dashboard, header_userpic, dashboard, ...</td>\n",
              "      <td>[view, view, data, view, partner_callback, mes...</td>\n",
              "      <td>[view_search_results, dashboard, header_userpi...</td>\n",
              "      <td>[Mac Desktop, Mac Desktop, Mac Desktop, Mac De...</td>\n",
              "      <td>[20438.0, 787.0, 850.0, 934.0, nan, 129817.0, ...</td>\n",
              "    </tr>\n",
              "    <tr>\n",
              "      <th>1</th>\n",
              "      <td>0010k6l0om</td>\n",
              "      <td>[search_results, show, personalize, show, sear...</td>\n",
              "      <td>[click, view, data, nan, click, click, nan, da...</td>\n",
              "      <td>[view_search_results, p3, wishlist_content_upd...</td>\n",
              "      <td>[Mac Desktop, Mac Desktop, Mac Desktop, Mac De...</td>\n",
              "      <td>[1708.0, 21260.0, 1223.0, 26.0, 847.0, 1230.0,...</td>\n",
              "    </tr>\n",
              "    <tr>\n",
              "      <th>2</th>\n",
              "      <td>001wyh0pz8</td>\n",
              "      <td>[search, search, search, show, social_connecti...</td>\n",
              "      <td>[click, click, click, view, data, -unknown-, v...</td>\n",
              "      <td>[view_search_results, view_search_results, vie...</td>\n",
              "      <td>[Android App Unknown Phone/Tablet, Android App...</td>\n",
              "      <td>[622.0, 1813.0, 1507.0, 6327.0, 927.0, 142.0, ...</td>\n",
              "    </tr>\n",
              "    <tr>\n",
              "      <th>3</th>\n",
              "      <td>0028jgx1x1</td>\n",
              "      <td>[show, reviews, show, search, show, search, re...</td>\n",
              "      <td>[view, data, view, click, view, click, data, s...</td>\n",
              "      <td>[user_profile, listing_reviews, p3, view_searc...</td>\n",
              "      <td>[-unknown-, -unknown-, -unknown-, -unknown-, -...</td>\n",
              "      <td>[6162.0, 75.0, 86.0, 13710.0, 25217.0, 10989.0...</td>\n",
              "    </tr>\n",
              "    <tr>\n",
              "      <th>4</th>\n",
              "      <td>002qnbzfs5</td>\n",
              "      <td>[social_connections, payment_methods, create, ...</td>\n",
              "      <td>[data, -unknown-, -unknown-, view, data, data,...</td>\n",
              "      <td>[user_social_connections, -unknown-, -unknown-...</td>\n",
              "      <td>[iPhone, iPhone, iPhone, iPhone, iPhone, iPhon...</td>\n",
              "      <td>[17135.0, 711.0, 274.0, 179.0, 483.0, 1.0, 782...</td>\n",
              "    </tr>\n",
              "  </tbody>\n",
              "</table>\n",
              "</div>\n",
              "      <button class=\"colab-df-convert\" onclick=\"convertToInteractive('df-6f2fbc5b-4e4c-4067-b47c-afa53c23f84d')\"\n",
              "              title=\"Convert this dataframe to an interactive table.\"\n",
              "              style=\"display:none;\">\n",
              "        \n",
              "  <svg xmlns=\"http://www.w3.org/2000/svg\" height=\"24px\"viewBox=\"0 0 24 24\"\n",
              "       width=\"24px\">\n",
              "    <path d=\"M0 0h24v24H0V0z\" fill=\"none\"/>\n",
              "    <path d=\"M18.56 5.44l.94 2.06.94-2.06 2.06-.94-2.06-.94-.94-2.06-.94 2.06-2.06.94zm-11 1L8.5 8.5l.94-2.06 2.06-.94-2.06-.94L8.5 2.5l-.94 2.06-2.06.94zm10 10l.94 2.06.94-2.06 2.06-.94-2.06-.94-.94-2.06-.94 2.06-2.06.94z\"/><path d=\"M17.41 7.96l-1.37-1.37c-.4-.4-.92-.59-1.43-.59-.52 0-1.04.2-1.43.59L10.3 9.45l-7.72 7.72c-.78.78-.78 2.05 0 2.83L4 21.41c.39.39.9.59 1.41.59.51 0 1.02-.2 1.41-.59l7.78-7.78 2.81-2.81c.8-.78.8-2.07 0-2.86zM5.41 20L4 18.59l7.72-7.72 1.47 1.35L5.41 20z\"/>\n",
              "  </svg>\n",
              "      </button>\n",
              "      \n",
              "  <style>\n",
              "    .colab-df-container {\n",
              "      display:flex;\n",
              "      flex-wrap:wrap;\n",
              "      gap: 12px;\n",
              "    }\n",
              "\n",
              "    .colab-df-convert {\n",
              "      background-color: #E8F0FE;\n",
              "      border: none;\n",
              "      border-radius: 50%;\n",
              "      cursor: pointer;\n",
              "      display: none;\n",
              "      fill: #1967D2;\n",
              "      height: 32px;\n",
              "      padding: 0 0 0 0;\n",
              "      width: 32px;\n",
              "    }\n",
              "\n",
              "    .colab-df-convert:hover {\n",
              "      background-color: #E2EBFA;\n",
              "      box-shadow: 0px 1px 2px rgba(60, 64, 67, 0.3), 0px 1px 3px 1px rgba(60, 64, 67, 0.15);\n",
              "      fill: #174EA6;\n",
              "    }\n",
              "\n",
              "    [theme=dark] .colab-df-convert {\n",
              "      background-color: #3B4455;\n",
              "      fill: #D2E3FC;\n",
              "    }\n",
              "\n",
              "    [theme=dark] .colab-df-convert:hover {\n",
              "      background-color: #434B5C;\n",
              "      box-shadow: 0px 1px 3px 1px rgba(0, 0, 0, 0.15);\n",
              "      filter: drop-shadow(0px 1px 2px rgba(0, 0, 0, 0.3));\n",
              "      fill: #FFFFFF;\n",
              "    }\n",
              "  </style>\n",
              "\n",
              "      <script>\n",
              "        const buttonEl =\n",
              "          document.querySelector('#df-6f2fbc5b-4e4c-4067-b47c-afa53c23f84d button.colab-df-convert');\n",
              "        buttonEl.style.display =\n",
              "          google.colab.kernel.accessAllowed ? 'block' : 'none';\n",
              "\n",
              "        async function convertToInteractive(key) {\n",
              "          const element = document.querySelector('#df-6f2fbc5b-4e4c-4067-b47c-afa53c23f84d');\n",
              "          const dataTable =\n",
              "            await google.colab.kernel.invokeFunction('convertToInteractive',\n",
              "                                                     [key], {});\n",
              "          if (!dataTable) return;\n",
              "\n",
              "          const docLinkHtml = 'Like what you see? Visit the ' +\n",
              "            '<a target=\"_blank\" href=https://colab.research.google.com/notebooks/data_table.ipynb>data table notebook</a>'\n",
              "            + ' to learn more about interactive tables.';\n",
              "          element.innerHTML = '';\n",
              "          dataTable['output_type'] = 'display_data';\n",
              "          await google.colab.output.renderOutput(dataTable, element);\n",
              "          const docLink = document.createElement('div');\n",
              "          docLink.innerHTML = docLinkHtml;\n",
              "          element.appendChild(docLink);\n",
              "        }\n",
              "      </script>\n",
              "    </div>\n",
              "  </div>\n",
              "  "
            ]
          },
          "metadata": {},
          "execution_count": 25
        }
      ]
    },
    {
      "cell_type": "code",
      "source": [
        "def list_to_string(lst):\n",
        "    lst = [re.sub('nan', '', str(x)) for x in lst]\n",
        "    return ','.join(lst)\n",
        "\n",
        "def secs_sum(lst):\n",
        "    lst = [re.sub('nan', '', str(x)) for x in lst]\n",
        "    return sum([float(x) for x in lst if x != ''])"
      ],
      "metadata": {
        "id": "XYQBTUgvWIYo"
      },
      "execution_count": 26,
      "outputs": []
    },
    {
      "cell_type": "code",
      "source": [
        "session_df_concat['action'] = session_df_concat['action'].apply(list_to_string)\n",
        "session_df_concat['action_type'] = session_df_concat['action_type'].apply(list_to_string)\n",
        "session_df_concat['action_detail'] = session_df_concat['action_detail'].apply(list_to_string)\n",
        "session_df_concat['device_type'] = session_df_concat['device_type'].apply(list_to_string)\n",
        "session_df_concat['secs_elapsed'] = session_df_concat['secs_elapsed'].apply(secs_sum)"
      ],
      "metadata": {
        "id": "gP-L1LvxZ2dn"
      },
      "execution_count": 27,
      "outputs": []
    },
    {
      "cell_type": "code",
      "source": [
        "train_merge = new_df_train.merge(session_df_concat, left_on='id', right_on='user_id', how='inner')\n",
        "print(\"Train  :\",new_df_train.shape)\n",
        "print(\"Session:\",session_df_concat.shape)\n",
        "print(\"Merge  :\",train_merge.shape)\n",
        "print(\"No of users in Train Data with session info:\",train_merge.shape[0])\n",
        "print(\"{} / {} = {}\".format(train_merge.shape[0],new_df_train.shape[0],np.round((train_merge.shape[0]/new_df_train.shape[0]),2)))"
      ],
      "metadata": {
        "colab": {
          "base_uri": "https://localhost:8080/"
        },
        "id": "R5tLSWU6cFo9",
        "outputId": "05f6a687-3a87-4c94-a9ae-8051f3394c21"
      },
      "execution_count": 28,
      "outputs": [
        {
          "output_type": "stream",
          "name": "stdout",
          "text": [
            "Train  : (213451, 146)\n",
            "Session: (135483, 6)\n",
            "Merge  : (73815, 152)\n",
            "No of users in Train Data with session info: 73815\n",
            "73815 / 213451 = 0.35\n"
          ]
        }
      ]
    },
    {
      "cell_type": "code",
      "source": [
        "test_merge = new_df_test.merge(session_df_concat, left_on='id', right_on='user_id', how='left')\n",
        "print(\"Test  :\",new_df_test.shape)\n",
        "print(\"Session:\",session_df_concat.shape)\n",
        "print(\"Merge  :\",test_merge.shape)\n",
        "print(\"No of users in Test Data with session info:\",test_merge.shape[0])\n",
        "print(\"{} / {} = {}\".format(test_merge.shape[0],new_df_test.shape[0],np.round((test_merge.shape[0]/new_df_test.shape[0]),2)))"
      ],
      "metadata": {
        "colab": {
          "base_uri": "https://localhost:8080/"
        },
        "id": "eTx5pDGceAjQ",
        "outputId": "a1a5330d-f0cd-409b-adba-6e72a0fbee76"
      },
      "execution_count": 29,
      "outputs": [
        {
          "output_type": "stream",
          "name": "stdout",
          "text": [
            "Test  : (62096, 146)\n",
            "Session: (135483, 6)\n",
            "Merge  : (62096, 152)\n",
            "No of users in Test Data with session info: 62096\n",
            "62096 / 62096 = 1.0\n"
          ]
        }
      ]
    },
    {
      "cell_type": "code",
      "source": [
        "test_merge = test_merge.drop(['country_destination'],axis=1)\n",
        "test_merge['user_id'].fillna('na' , inplace=True)\n",
        "test_merge['action'].fillna('na' , inplace=True)\n",
        "test_merge['action_type'].fillna('na' , inplace=True)\n",
        "test_merge['action_detail'].fillna('na' , inplace=True)\n",
        "test_merge['device_type'].fillna('na' , inplace=True)\n",
        "test_merge['secs_elapsed'].fillna(0, inplace=True)"
      ],
      "metadata": {
        "id": "By-5KKp4Ej7i"
      },
      "execution_count": 30,
      "outputs": []
    },
    {
      "cell_type": "code",
      "source": [
        "#labels\n",
        "y = train_merge['country_destination']\n",
        "\n",
        "train_merge.drop(['id','country_destination','user_id'],axis=1,inplace = True)\n",
        "test_merge.drop(['id','user_id'],axis=1,inplace = True)"
      ],
      "metadata": {
        "id": "96gO0QtR9JgI"
      },
      "execution_count": 31,
      "outputs": []
    },
    {
      "cell_type": "code",
      "source": [
        "#OHE gender\n",
        "one_hot_df = pd.get_dummies(test_merge['gender'], prefix='gender')\n",
        "test_merge = test_merge.drop('gender', axis=1)\n",
        "test_merge = pd.concat([test_merge, one_hot_df], axis=1)\n",
        "\n",
        "# 將 gender 欄位 one-hot encoding\n",
        "one_hot_df = pd.get_dummies(train_merge['gender'], prefix='gender')\n",
        "train_merge = train_merge.drop('gender', axis=1)\n",
        "train_merge = pd.concat([train_merge, one_hot_df], axis=1)\n"
      ],
      "metadata": {
        "id": "MHTROzmkiECj"
      },
      "execution_count": 32,
      "outputs": []
    },
    {
      "cell_type": "markdown",
      "source": [
        "**TF-IDF for session data**"
      ],
      "metadata": {
        "id": "ptPyzobYiLl9"
      }
    },
    {
      "cell_type": "code",
      "source": [
        "def tokens(x):        \n",
        "    return x.split(',')\n",
        "\n",
        "def TF_IDF(train, test, col):\n",
        "  vectorizer = TfidfVectorizer(min_df=10,max_features=5000,tokenizer=tokens)\n",
        "  vectorizer.fit(train[col].values)\n",
        "  train_merge_tfidf = vectorizer.transform(train[col].values)\n",
        "  test_merge_tfidf = vectorizer.transform(test[col].values)\n",
        "  print(\"After vectorizations\")\n",
        "  print(train_merge_tfidf.shape)\n",
        "  print(test_merge_tfidf.shape)\n",
        "  print(\"=\"*100)\n",
        "\n",
        "  return train_merge_tfidf, test_merge_tfidf"
      ],
      "metadata": {
        "id": "TpifkQKYiPAN"
      },
      "execution_count": 33,
      "outputs": []
    },
    {
      "cell_type": "code",
      "source": [
        "action_tfidf_train, action_tfidf_test = TF_IDF(train_merge, test_merge, 'action')\n",
        "action_ty_tfidf_train, action_ty_tfidf_test = TF_IDF(train_merge, test_merge, 'action_type')\n",
        "action_de_tfidf_train, action_de_tfidf_test = TF_IDF(train_merge, test_merge, 'action_detail')\n",
        "device_tfidf_train, device_tfidf_test = TF_IDF(train_merge, test_merge, 'device_type')"
      ],
      "metadata": {
        "colab": {
          "base_uri": "https://localhost:8080/"
        },
        "id": "nTGLM3K_jQlO",
        "outputId": "105535ac-ea70-4740-ca88-dcc99f481ad0"
      },
      "execution_count": 35,
      "outputs": [
        {
          "output_type": "stream",
          "name": "stdout",
          "text": [
            "After vectorizations\n",
            "(73815, 256)\n",
            "(62096, 256)\n",
            "====================================================================================================\n",
            "After vectorizations\n",
            "(73815, 9)\n",
            "(62096, 9)\n",
            "====================================================================================================\n",
            "After vectorizations\n",
            "(73815, 122)\n",
            "(62096, 122)\n",
            "====================================================================================================\n",
            "After vectorizations\n",
            "(73815, 13)\n",
            "(62096, 13)\n",
            "====================================================================================================\n"
          ]
        }
      ]
    },
    {
      "cell_type": "code",
      "source": [
        "# drop colmns\n",
        "train_merge.drop(['action','action_type','action_detail','device_type'],axis=1,inplace = True)\n",
        "test_merge.drop(['action','action_type','action_detail','device_type'],axis=1,inplace = True)"
      ],
      "metadata": {
        "id": "i_73xgLejwaC"
      },
      "execution_count": 36,
      "outputs": []
    },
    {
      "cell_type": "code",
      "source": [
        "# data stacking\n",
        "train_merge_tfidf = hstack((train_merge.astype(float), action_tfidf_train, action_ty_tfidf_train, action_de_tfidf_train, device_tfidf_train)).tocsr()\n",
        "test_merge_tfidf = hstack((test_merge.astype(float), action_tfidf_test, action_ty_tfidf_test, action_de_tfidf_test, device_tfidf_test)).tocsr()\n",
        "\n",
        "print(\"Final Data matrix\")\n",
        "print(train_merge_tfidf.shape)\n",
        "print(test_merge_tfidf.shape)\n",
        "print(\"=\"*100)"
      ],
      "metadata": {
        "colab": {
          "base_uri": "https://localhost:8080/"
        },
        "id": "BmovuDPbkjfQ",
        "outputId": "7daf637a-2fcb-403a-c89d-125c042a8499"
      },
      "execution_count": 37,
      "outputs": [
        {
          "output_type": "stream",
          "name": "stdout",
          "text": [
            "Final Data matrix\n",
            "(73815, 546)\n",
            "(62096, 546)\n",
            "====================================================================================================\n"
          ]
        }
      ]
    },
    {
      "cell_type": "code",
      "source": [
        "le = LabelEncoder()\n",
        "y = le.fit_transform(y)\n",
        "y"
      ],
      "metadata": {
        "colab": {
          "base_uri": "https://localhost:8080/"
        },
        "id": "GDEGky6Vlk9l",
        "outputId": "dc65640d-811a-4337-d9f6-54a1399d14c3"
      },
      "execution_count": 38,
      "outputs": [
        {
          "output_type": "execute_result",
          "data": {
            "text/plain": [
              "array([11,  7,  7, ...,  7,  7,  7])"
            ]
          },
          "metadata": {},
          "execution_count": 38
        }
      ]
    },
    {
      "cell_type": "code",
      "source": [
        "def dcg_score(y_true, y_score, k=5):\n",
        "    order = np.argsort(y_score)[::-1]\n",
        "    y_true = np.take(y_true, order[:k])\n",
        "\n",
        "    gain = 2 ** y_true - 1\n",
        "\n",
        "    discounts = np.log2(np.arange(len(y_true)) + 2)\n",
        "    return np.sum(gain / discounts)\n",
        "\n",
        "def ndcg_score(ground_truth, predictions, k=5):\n",
        "    lb = LabelBinarizer()\n",
        "    lb.fit(range(predictions.shape[1] + 1))\n",
        "    T = lb.transform(ground_truth)\n",
        "\n",
        "    scores = []\n",
        "\n",
        "    # Iterate over each y_true and compute the DCG score\n",
        "    for y_true, y_score in zip(T, predictions):\n",
        "        actual = dcg_score(y_true, y_score, k)\n",
        "        best = dcg_score(y_true, y_true, k)\n",
        "        score = float(actual) / float(best)\n",
        "        scores.append(score)\n",
        "\n",
        "    return np.mean(scores)\n",
        "\n",
        "\n",
        "# NDCG Scorer function\n",
        "ndcg_scorer = make_scorer(ndcg_score, needs_proba=True, k=5)"
      ],
      "metadata": {
        "id": "CR2AbuEBmUz6"
      },
      "execution_count": 39,
      "outputs": []
    },
    {
      "cell_type": "code",
      "source": [],
      "metadata": {
        "id": "syx5PQo2nJvj"
      },
      "execution_count": null,
      "outputs": []
    },
    {
      "cell_type": "markdown",
      "source": [
        "**modeling**\n",
        "\n",
        "* 5-fold\n",
        "* 比較時間與 ndcg"
      ],
      "metadata": {
        "id": "TJsbl-8pnhEz"
      }
    },
    {
      "cell_type": "code",
      "source": [
        "%%time\n",
        "model = linear_model.LogisticRegression(multi_class=\"multinomial\",solver=\"lbfgs\")\n",
        "print(np.mean(cross_val_score(model, train_merge_tfidf, y, n_jobs=-1,scoring=ndcg_scorer)))"
      ],
      "metadata": {
        "colab": {
          "base_uri": "https://localhost:8080/"
        },
        "id": "91R4ajLxnjB9",
        "outputId": "c4bee544-5ec3-4137-9004-a1fef20bba46"
      },
      "execution_count": 152,
      "outputs": [
        {
          "output_type": "stream",
          "name": "stdout",
          "text": [
            "0.8135307249111973\n",
            "CPU times: user 180 ms, sys: 2.19 s, total: 2.37 s\n",
            "Wall time: 15.1 s\n"
          ]
        }
      ]
    },
    {
      "cell_type": "code",
      "source": [
        "%%time\n",
        "model = RandomForestClassifier()\n",
        "print(np.mean(cross_val_score(model, train_merge_tfidf, y, n_jobs=-1,scoring=ndcg_scorer)))"
      ],
      "metadata": {
        "colab": {
          "base_uri": "https://localhost:8080/"
        },
        "id": "MjAMP2e-oWe2",
        "outputId": "12902e27-f980-4a29-d6e1-0f2f1993e227"
      },
      "execution_count": 153,
      "outputs": [
        {
          "output_type": "stream",
          "name": "stdout",
          "text": [
            "0.8370888837330324\n",
            "CPU times: user 1.36 s, sys: 200 ms, total: 1.56 s\n",
            "Wall time: 4min 13s\n"
          ]
        }
      ]
    },
    {
      "cell_type": "code",
      "source": [
        "%%time\n",
        "model = xgb.XGBClassifier(objective='multi:softmax',eval_metric= 'mlogloss')\n",
        "print(np.mean(cross_val_score(model, train_merge_tfidf, y, n_jobs=-1,scoring=ndcg_scorer)))"
      ],
      "metadata": {
        "colab": {
          "base_uri": "https://localhost:8080/"
        },
        "id": "am5ferJ0rF0T",
        "outputId": "5d1cc053-09cf-4edb-9f47-2c53fa6b1eb4"
      },
      "execution_count": 154,
      "outputs": [
        {
          "output_type": "stream",
          "name": "stdout",
          "text": [
            "0.7945144561750981\n",
            "CPU times: user 4.02 s, sys: 2.21 s, total: 6.22 s\n",
            "Wall time: 13min 45s\n"
          ]
        }
      ]
    },
    {
      "cell_type": "code",
      "source": [
        "%%time\n",
        "model = lgb.LGBMClassifier(boosting_type= 'gbdt',nthread=3, n_jobs=-1, reg_alpha=1, reg_lambda=0, max_depth=-1, learning_rate=0.05, n_estimators=400)\n",
        "print(np.mean(cross_val_score(model, train_merge_tfidf, y, n_jobs=-1,scoring=ndcg_scorer)))"
      ],
      "metadata": {
        "colab": {
          "base_uri": "https://localhost:8080/"
        },
        "id": "SFB7nKkFrUU3",
        "outputId": "d2f77ef7-1b12-44da-c06f-e74121fcb153"
      },
      "execution_count": 155,
      "outputs": [
        {
          "output_type": "stream",
          "name": "stdout",
          "text": [
            "0.7686071396726507\n",
            "CPU times: user 871 ms, sys: 1.49 s, total: 2.36 s\n",
            "Wall time: 2min 32s\n"
          ]
        }
      ]
    },
    {
      "cell_type": "markdown",
      "source": [
        "**summit**"
      ],
      "metadata": {
        "id": "n-2rsJJHsD-9"
      }
    },
    {
      "cell_type": "code",
      "source": [
        "test_id = df_test['id'].values"
      ],
      "metadata": {
        "id": "N8qOuiYSsKMY"
      },
      "execution_count": null,
      "outputs": []
    },
    {
      "cell_type": "code",
      "source": [
        "def submit(train, test, target):    \n",
        "    \n",
        "    model = lgb.LGBMClassifier(boosting_type= 'gbdt',nthread=3, n_jobs=-1, reg_alpha=1, reg_lambda=0, max_depth=-1, learning_rate=0.05, n_estimators=400)\n",
        "    print(\"model fitting starting ...\")\n",
        "    model.fit(train, target)\n",
        "       \n",
        "    print(\"model fitting completed ...\")\n",
        "    print()\n",
        "    \n",
        "    predic_proba = model.predict_proba(test)\n",
        "    \n",
        "    ids = []\n",
        "    countries = []\n",
        "\n",
        "    # Taking the 5 classes with highest probabilities\n",
        "\n",
        "    for i in range(len(test_id)):\n",
        "        idx = test_id[i]\n",
        "        ids += [idx] * 5\n",
        "        countries += le.inverse_transform(np.argsort(predic_proba[i])[::-1][:5]).tolist()\n",
        "        \n",
        "    # Generate submission\n",
        "\n",
        "    sub = pd.DataFrame({\"id\" : ids,\"country\" : countries})\n",
        "\n",
        "    sub.to_csv('/content/drive/MyDrive/台新/submission.csv', index = False)\n",
        "    print(\"kaggle submission in process ...\")\n",
        "    \n",
        "    gc.collect()"
      ],
      "metadata": {
        "id": "96EGZlDZrNQB"
      },
      "execution_count": 41,
      "outputs": []
    },
    {
      "cell_type": "code",
      "source": [
        "submit(train_merge_tfidf, test_merge_tfidf, y)"
      ],
      "metadata": {
        "colab": {
          "base_uri": "https://localhost:8080/"
        },
        "id": "EduVMiNwtdBd",
        "outputId": "47d51b45-a834-41cb-9baf-2f701664fe2b"
      },
      "execution_count": 42,
      "outputs": [
        {
          "output_type": "stream",
          "name": "stdout",
          "text": [
            "model fitting starting ...\n",
            "model fitting completed ...\n",
            "\n",
            "kaggle submission in process ...\n"
          ]
        }
      ]
    },
    {
      "cell_type": "code",
      "source": [],
      "metadata": {
        "id": "R7WJHkIupQkd"
      },
      "execution_count": null,
      "outputs": []
    },
    {
      "cell_type": "code",
      "source": [],
      "metadata": {
        "id": "kcOdIo29pCVD"
      },
      "execution_count": null,
      "outputs": []
    }
  ]
}